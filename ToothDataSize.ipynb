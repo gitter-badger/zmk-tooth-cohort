{
 "cells": [
  {
   "cell_type": "markdown",
   "metadata": {},
   "source": [
    "# Get total dataset size\n",
    "This notebook was used to see how big the projections, reconstructions and .zarr datasets were.\n",
    "It's loosely based on what [we did for the acini project](https://github.com/habi/acinar-analysis/blob/master/DataSizeBragging.ipynb) with Johannes."
   ]
  },
  {
   "cell_type": "code",
   "execution_count": 1,
   "metadata": {},
   "outputs": [],
   "source": [
    "import platform\n",
    "import glob\n",
    "import os\n",
    "import pandas\n",
    "import matplotlib.pyplot as plt\n",
    "import seaborn"
   ]
  },
  {
   "cell_type": "code",
   "execution_count": 2,
   "metadata": {},
   "outputs": [],
   "source": [
    "def get_git_hash():\n",
    "    '''\n",
    "    Get the current git hash from the repository.\n",
    "    Based on http://stackoverflow.com/a/949391/323100 and\n",
    "    http://stackoverflow.com/a/18283905/323100\n",
    "    '''\n",
    "    from subprocess import Popen, PIPE\n",
    "    import os\n",
    "    gitprocess = Popen(['git',\n",
    "                        '--git-dir',\n",
    "                        os.path.join(os.getcwd(), '.git'),\n",
    "                        'rev-parse',\n",
    "                        '--short',\n",
    "                        '--verify',\n",
    "                        'HEAD'],\n",
    "                       stdout=PIPE)\n",
    "    (output, _) = gitprocess.communicate()\n",
    "    return output.strip().decode(\"utf-8\")"
   ]
  },
  {
   "cell_type": "code",
   "execution_count": 3,
   "metadata": {},
   "outputs": [
    {
     "name": "stdout",
     "output_type": "stream",
     "text": [
      "We are saving all the output to /home/habi/P/Documents/AcinarSize_Johannes/Output/1eeb872\n"
     ]
    }
   ],
   "source": [
    "# Make directory for output\n",
    "OutPutDir = os.path.join(os.getcwd(), 'Output', get_git_hash())\n",
    "print('We are saving all the output to %s' % OutPutDir)\n",
    "os.makedirs(OutPutDir, exist_ok=True)"
   ]
  },
  {
   "cell_type": "code",
   "execution_count": 4,
   "metadata": {},
   "outputs": [
    {
     "name": "stdout",
     "output_type": "stream",
     "text": [
      "We are loading all the data from /home/habi/1272/ZMK\n"
     ]
    }
   ],
   "source": [
    "# Different locations if running either on Linux or Windows\n",
    "FastSSD = False\n",
    "# to speed things up significantly\n",
    "if 'Linux' in platform.system():\n",
    "    if FastSSD:\n",
    "        BasePath = os.path.join(os.sep, 'media', 'habi', 'Fast_SSD')\n",
    "    else:\n",
    "        BasePath = os.path.join(os.sep, 'home', 'habi', '1272')\n",
    "else:\n",
    "    if FastSSD:\n",
    "        BasePath = os.path.join('F:\\\\')\n",
    "    else:\n",
    "        if 'anaklin' in platform.node():\n",
    "            BasePath = os.path.join('S:\\\\')\n",
    "        else:\n",
    "            BasePath = os.path.join('D:\\\\Results')\n",
    "Root = os.path.join(BasePath, 'ZMK')\n",
    "print('We are loading all the data from %s' % Root)"
   ]
  },
  {
   "cell_type": "code",
   "execution_count": 5,
   "metadata": {},
   "outputs": [],
   "source": [
    "# Make us a dataframe for saving all that we need\n",
    "Data = pandas.DataFrame()"
   ]
  },
  {
   "cell_type": "code",
   "execution_count": 6,
   "metadata": {},
   "outputs": [],
   "source": [
    "# Look only for folders: https://stackoverflow.com/a/38216530\n",
    "Data['Folder'] = glob.glob(os.path.join(Root, 'ToothBattallion', '*' + os.path.sep))"
   ]
  },
  {
   "cell_type": "code",
   "execution_count": 7,
   "metadata": {},
   "outputs": [
    {
     "name": "stdout",
     "output_type": "stream",
     "text": [
      "We found 104 tooth folders in /home/habi/1272/ZMK\n"
     ]
    }
   ],
   "source": [
    "print('We found %s tooth folders in %s' % (len(Data), Root))"
   ]
  },
  {
   "cell_type": "code",
   "execution_count": 8,
   "metadata": {},
   "outputs": [
    {
     "name": "stdout",
     "output_type": "stream",
     "text": [
      "We have 104 tooth folders to work with\n"
     ]
    }
   ],
   "source": [
    "# We could do it in a list comprehension, but then it fails if we're still scanning a tooth\n",
    "# Data['LogFile'] = [sorted(glob.glob(os.path.join(f, '*.log')))[0] for f in Data['Folder']]\n",
    "for c, row in Data.iterrows():\n",
    "    try:\n",
    "        Data.at[c, 'LogFile'] = sorted(glob.glob(os.path.join(row['Folder'], '*.log')))[0]\n",
    "    except IndexError:\n",
    "        print('No logfile found in %s, removing the folder temporarily' % row.Folder)\n",
    "        Data.at[c, 'LogFile'] = 'scanning'\n",
    "Data = Data[Data['LogFile'] != 'scanning']\n",
    "Data.reset_index(drop=True, inplace=True)\n",
    "print('We have %s tooth folders to work with' % (len(Data)))"
   ]
  },
  {
   "cell_type": "code",
   "execution_count": 9,
   "metadata": {},
   "outputs": [],
   "source": [
    "Data['Sample'] = [os.path.splitext(os.path.basename(l))[0] for l in Data['LogFile']]"
   ]
  },
  {
   "cell_type": "code",
   "execution_count": 10,
   "metadata": {},
   "outputs": [],
   "source": [
    "# Proper sorting *with* leading zeros :)\n",
    "Data.sort_values(by=['Sample'], inplace=True)"
   ]
  },
  {
   "cell_type": "code",
   "execution_count": 11,
   "metadata": {},
   "outputs": [],
   "source": [
    "# # Temporarily drop some data\n",
    "# Data = Data[:3]\n",
    "# print('We are currently working with a subset of %s teeth' % len(Data))"
   ]
  },
  {
   "cell_type": "code",
   "execution_count": 12,
   "metadata": {},
   "outputs": [],
   "source": [
    "# Get the projection details\n",
    "Data['Projections'] = [sorted(glob.glob(os.path.join(f,\n",
    "                                                     '*.tif'))) for f in Data['Folder']]\n",
    "Data['NumProj'] = [len(r) for r in Data['Projections']]"
   ]
  },
  {
   "cell_type": "code",
   "execution_count": 13,
   "metadata": {},
   "outputs": [
    {
     "name": "stdout",
     "output_type": "stream",
     "text": [
      "In total, we have 239173 projections over all the 104 datasets\n"
     ]
    }
   ],
   "source": [
    "print('In total, we have %s projections over all the %s datasets'\n",
    "      % (Data['NumProj'].sum(),\n",
    "         len(Data)))"
   ]
  },
  {
   "cell_type": "code",
   "execution_count": 14,
   "metadata": {},
   "outputs": [
    {
     "name": "stdout",
     "output_type": "stream",
     "text": [
      "On average, we recorded about 2300 projections for each of the 104 teeth.\n"
     ]
    }
   ],
   "source": [
    "print('On average, we recorded about %s projections for each of the %s teeth.'\n",
    "      % (int(round(Data['NumProj'].mean())),\n",
    "         len(Data)))"
   ]
  },
  {
   "cell_type": "code",
   "execution_count": 15,
   "metadata": {},
   "outputs": [],
   "source": [
    "# Get the size of the original TIF files\n",
    "Data['SizeProj'] = [[os.path.getsize(rec) for rec in recs] for recs in Data['Projections']]\n",
    "Data['SizeProjSum'] = [sum(sizes) for sizes in Data['SizeProj']]"
   ]
  },
  {
   "cell_type": "code",
   "execution_count": 16,
   "metadata": {},
   "outputs": [
    {
     "data": {
      "text/plain": [
       "0      4568284528\n",
       "16    10231938720\n",
       "27    10231938720\n",
       "38     5763828950\n",
       "49     8615737750\n",
       "         ...     \n",
       "2      8615737750\n",
       "3      8615737750\n",
       "4      8615737750\n",
       "5      8615737750\n",
       "6      8615737750\n",
       "Name: SizeProjSum, Length: 104, dtype: int64"
      ]
     },
     "execution_count": 16,
     "metadata": {},
     "output_type": "execute_result"
    }
   ],
   "source": [
    "Data['SizeProjSum']"
   ]
  },
  {
   "cell_type": "markdown",
   "metadata": {},
   "source": [
    "To get (nearly) the same size, use\n",
    "````bash\n",
    "du -csb [123]/*.tif\n",
    "````\n",
    "in a Linux console"
   ]
  },
  {
   "cell_type": "code",
   "execution_count": 17,
   "metadata": {},
   "outputs": [
    {
     "name": "stdout",
     "output_type": "stream",
     "text": [
      "On average, the projections of each of the 104 assessed samples are 8.17 GB in size\n"
     ]
    }
   ],
   "source": [
    "print('On average, the projections of each of the %s assessed samples '\n",
    "      'are %0.2f GB in size' % (len(Data),\n",
    "                                Data['SizeProjSum'].mean() * 1e-9))"
   ]
  },
  {
   "cell_type": "code",
   "execution_count": 18,
   "metadata": {},
   "outputs": [
    {
     "name": "stdout",
     "output_type": "stream",
     "text": [
      "In total, all projections are 849.59 GB in size\n"
     ]
    }
   ],
   "source": [
    "print('In total, all projections are %0.2f GB in size' % (Data['SizeProjSum'].sum() * 1e-9))"
   ]
  },
  {
   "cell_type": "markdown",
   "metadata": {},
   "source": [
    "----"
   ]
  },
  {
   "cell_type": "code",
   "execution_count": 19,
   "metadata": {},
   "outputs": [],
   "source": [
    "# Get the file names of the reconstructions\n",
    "Data['Reconstructions'] = [sorted(glob.glob(os.path.join(f,\n",
    "                                                         'rec',\n",
    "                                                         '*rec*.png'))) for f in Data['Folder']]\n",
    "Data['NumRec'] = [len(r) for r in Data['Reconstructions']]"
   ]
  },
  {
   "cell_type": "code",
   "execution_count": 20,
   "metadata": {},
   "outputs": [
    {
     "name": "stdout",
     "output_type": "stream",
     "text": [
      "In total, we have 282062 reconstructions for all the 104 datasets\n"
     ]
    }
   ],
   "source": [
    "print('In total, we have %s reconstructions for all the %s datasets'\n",
    "      % (Data['NumRec'].sum(),\n",
    "         len(Data)))"
   ]
  },
  {
   "cell_type": "code",
   "execution_count": 21,
   "metadata": {},
   "outputs": [
    {
     "name": "stdout",
     "output_type": "stream",
     "text": [
      "On average, each of the 104 tooth datasets has about 2712 reconstructions.\n"
     ]
    }
   ],
   "source": [
    "print('On average, each of the %s tooth datasets has about %s reconstructions.'\n",
    "      % (len(Data),\n",
    "         int(round(Data['NumRec'].mean()))))"
   ]
  },
  {
   "cell_type": "code",
   "execution_count": 22,
   "metadata": {},
   "outputs": [],
   "source": [
    "# Get the size of the original TIF files\n",
    "Data['SizeRec'] = [[os.path.getsize(rec) for rec in recs] for recs in Data['Reconstructions']]\n",
    "Data['SizeRecSum'] = [sum(sizes) for sizes in Data['SizeRec']]"
   ]
  },
  {
   "cell_type": "code",
   "execution_count": 23,
   "metadata": {},
   "outputs": [
    {
     "data": {
      "text/plain": [
       "0     2322645692\n",
       "16    3403138701\n",
       "27    4086408490\n",
       "38    3511385613\n",
       "49    3134716556\n",
       "         ...    \n",
       "2     3274405150\n",
       "3     4315113565\n",
       "4     3877259032\n",
       "5     3347123825\n",
       "6     4327010362\n",
       "Name: SizeRecSum, Length: 104, dtype: int64"
      ]
     },
     "execution_count": 23,
     "metadata": {},
     "output_type": "execute_result"
    }
   ],
   "source": [
    "Data['SizeRecSum']"
   ]
  },
  {
   "cell_type": "markdown",
   "metadata": {},
   "source": [
    "To get (nearly) the same size, use\n",
    "````bash\n",
    "du -csb [123]/rec/*.png\n",
    "````\n",
    "in a Linux console"
   ]
  },
  {
   "cell_type": "code",
   "execution_count": 24,
   "metadata": {},
   "outputs": [
    {
     "name": "stdout",
     "output_type": "stream",
     "text": [
      "On average, the reconstructions of each of the 104 assessed samples are 3.13 GB in size\n"
     ]
    }
   ],
   "source": [
    "print('On average, the reconstructions of each of the %s assessed samples '\n",
    "      'are %0.2f GB in size' % (len(Data),\n",
    "                                Data['SizeRecSum'].mean() * 1e-9))"
   ]
  },
  {
   "cell_type": "code",
   "execution_count": 25,
   "metadata": {},
   "outputs": [
    {
     "name": "stdout",
     "output_type": "stream",
     "text": [
      "In total, the reconstructions are 325.54 GB in size\n"
     ]
    }
   ],
   "source": [
    "print('In total, the reconstructions are %0.2f GB in size' % (Data['SizeRecSum'].sum() * 1e-9))"
   ]
  },
  {
   "cell_type": "markdown",
   "metadata": {},
   "source": [
    "----"
   ]
  },
  {
   "cell_type": "code",
   "execution_count": 26,
   "metadata": {},
   "outputs": [],
   "source": [
    "# Get the file names of the zarred reconstructions\n",
    "Data['ReconstructionsZarr'] = [sorted(glob.glob(os.path.join(f,\n",
    "                                                             '*rec.zarr', '*'))) for f in Data['Folder']]"
   ]
  },
  {
   "cell_type": "code",
   "execution_count": 27,
   "metadata": {},
   "outputs": [],
   "source": [
    "Data['SizeRecZarr'] = [[os.path.getsize(rec) for rec in recs] for recs in Data['ReconstructionsZarr']]\n",
    "Data['SizeRecZarrSum'] = [sum(sizes) for sizes in Data['SizeRecZarr']]"
   ]
  },
  {
   "cell_type": "code",
   "execution_count": 28,
   "metadata": {},
   "outputs": [
    {
     "data": {
      "text/plain": [
       "0     2187845495\n",
       "16    3238810024\n",
       "27    3797976564\n",
       "38    3501731282\n",
       "49    3179400124\n",
       "         ...    \n",
       "2     3321625321\n",
       "3     4373727364\n",
       "4     4070391520\n",
       "5     3396211408\n",
       "6     4341612924\n",
       "Name: SizeRecZarrSum, Length: 104, dtype: int64"
      ]
     },
     "execution_count": 28,
     "metadata": {},
     "output_type": "execute_result"
    }
   ],
   "source": [
    "Data['SizeRecZarrSum']"
   ]
  },
  {
   "cell_type": "markdown",
   "metadata": {},
   "source": [
    "To get (nearly) the same size, use\n",
    "````bash\n",
    "du -csb [123]/Tooth*_rec.zarr/*\n",
    "````\n",
    "in a Linux console"
   ]
  },
  {
   "cell_type": "code",
   "execution_count": 29,
   "metadata": {},
   "outputs": [
    {
     "name": "stdout",
     "output_type": "stream",
     "text": [
      "On average, the *zarred* reconstructions of each of the 104 assessed samples are 3.14 GB in size\n"
     ]
    }
   ],
   "source": [
    "print('On average, the *zarred* reconstructions of each of the %s assessed samples '\n",
    "      'are %0.2f GB in size' % (len(Data),\n",
    "                                Data['SizeRecZarrSum'].mean() * 1e-9))"
   ]
  },
  {
   "cell_type": "code",
   "execution_count": 30,
   "metadata": {},
   "outputs": [
    {
     "name": "stdout",
     "output_type": "stream",
     "text": [
      "In total, the *zarred* reconstructions are 326.36 GB in size\n"
     ]
    }
   ],
   "source": [
    "print('In total, the *zarred* reconstructions are %0.2f GB in size' % (Data['SizeRecZarrSum'].sum() * 1e-9))"
   ]
  },
  {
   "cell_type": "markdown",
   "metadata": {},
   "source": [
    "----"
   ]
  },
  {
   "cell_type": "code",
   "execution_count": 31,
   "metadata": {},
   "outputs": [],
   "source": [
    "# Get the file names of the zarred reconstructions\n",
    "Data['ReconstructionsCropZarr'] = [sorted(glob.glob(os.path.join(f,\n",
    "                                                                 '*rec_crop.zarr', '*'))) for f in Data['Folder']]"
   ]
  },
  {
   "cell_type": "code",
   "execution_count": 32,
   "metadata": {},
   "outputs": [],
   "source": [
    "Data['SizeRecCropZarr'] = [[os.path.getsize(rec) for rec in recs] for recs in Data['ReconstructionsCropZarr']]\n",
    "Data['SizeRecCropZarrSum'] = [sum(sizes) for sizes in Data['SizeRecCropZarr']]"
   ]
  },
  {
   "cell_type": "code",
   "execution_count": 33,
   "metadata": {},
   "outputs": [
    {
     "data": {
      "text/plain": [
       "0      753157774\n",
       "16     887660265\n",
       "27    1396845850\n",
       "38    1035119296\n",
       "49     859072421\n",
       "         ...    \n",
       "2     3321625321\n",
       "3      787210022\n",
       "4     3292101958\n",
       "5     3053843562\n",
       "6      879544202\n",
       "Name: SizeRecCropZarrSum, Length: 104, dtype: int64"
      ]
     },
     "execution_count": 33,
     "metadata": {},
     "output_type": "execute_result"
    }
   ],
   "source": [
    "Data['SizeRecCropZarrSum']"
   ]
  },
  {
   "cell_type": "markdown",
   "metadata": {},
   "source": [
    "To get (nearly) the same size, use\n",
    "````bash\n",
    "du -csb [123]/Tooth*_rec_crop.zarr/*\n",
    "````\n",
    "in a Linux console"
   ]
  },
  {
   "cell_type": "code",
   "execution_count": 34,
   "metadata": {},
   "outputs": [
    {
     "name": "stdout",
     "output_type": "stream",
     "text": [
      "On average, the cropped reconstructions of each of the 104 assessed samples are 1.37 GB in size\n"
     ]
    }
   ],
   "source": [
    "print('On average, the cropped reconstructions of each of the %s assessed samples '\n",
    "      'are %0.2f GB in size' % (len(Data),\n",
    "                                Data['SizeRecCropZarrSum'].mean() * 1e-9))"
   ]
  },
  {
   "cell_type": "code",
   "execution_count": 35,
   "metadata": {},
   "outputs": [
    {
     "name": "stdout",
     "output_type": "stream",
     "text": [
      "In total, the cropped reconstructions are 142.00 GB in size\n"
     ]
    }
   ],
   "source": [
    "print('In total, the cropped reconstructions are %0.2f GB in size' % (Data['SizeRecCropZarrSum'].sum() * 1e-9))"
   ]
  },
  {
   "cell_type": "markdown",
   "metadata": {},
   "source": [
    "----"
   ]
  },
  {
   "cell_type": "code",
   "execution_count": 36,
   "metadata": {},
   "outputs": [],
   "source": [
    "# Get the file names of the zarred reconstructions\n",
    "Data['PulpaZarr'] = [sorted(glob.glob(os.path.join(f,\n",
    "                                                   '*pulpa.zarr', '*'))) for f in Data['Folder']]"
   ]
  },
  {
   "cell_type": "code",
   "execution_count": 37,
   "metadata": {},
   "outputs": [],
   "source": [
    "Data['SizePulpaZarr'] = [[os.path.getsize(rec) for rec in recs] for recs in Data['PulpaZarr']]\n",
    "Data['SizePulpaZarrSum'] = [sum(sizes) for sizes in Data['SizePulpaZarr']]"
   ]
  },
  {
   "cell_type": "code",
   "execution_count": 38,
   "metadata": {},
   "outputs": [
    {
     "data": {
      "text/plain": [
       "0      1579581\n",
       "16     1447936\n",
       "27     2317964\n",
       "38     2814709\n",
       "49     2845325\n",
       "        ...   \n",
       "2      8656858\n",
       "3      1881379\n",
       "4     16420815\n",
       "5      7826571\n",
       "6      1664073\n",
       "Name: SizePulpaZarrSum, Length: 104, dtype: int64"
      ]
     },
     "execution_count": 38,
     "metadata": {},
     "output_type": "execute_result"
    }
   ],
   "source": [
    "Data['SizePulpaZarrSum']"
   ]
  },
  {
   "cell_type": "markdown",
   "metadata": {},
   "source": [
    "To get (nearly) the same size, use\n",
    "````bash\n",
    "du -csb [123]/Tooth*_pulpa.zarr/*\n",
    "````\n",
    "in a Linux console"
   ]
  },
  {
   "cell_type": "code",
   "execution_count": 39,
   "metadata": {},
   "outputs": [
    {
     "name": "stdout",
     "output_type": "stream",
     "text": [
      "On average, the extracted pulpa of each of the 104 assessed samples are 3.42 MB in size\n"
     ]
    }
   ],
   "source": [
    "print('On average, the extracted pulpa of each of the %s assessed samples '\n",
    "      'are %0.2f MB in size' % (len(Data),\n",
    "                                Data['SizePulpaZarrSum'].mean() * 1e-6))"
   ]
  },
  {
   "cell_type": "code",
   "execution_count": 40,
   "metadata": {},
   "outputs": [
    {
     "name": "stdout",
     "output_type": "stream",
     "text": [
      "In total, the extracted pulpa are 355.79 MB in size\n"
     ]
    }
   ],
   "source": [
    "print('In total, the extracted pulpa are %0.2f MB in size' % (Data['SizePulpaZarrSum'].sum() * 1e-6))"
   ]
  },
  {
   "cell_type": "markdown",
   "metadata": {},
   "source": [
    "----"
   ]
  },
  {
   "cell_type": "code",
   "execution_count": 41,
   "metadata": {},
   "outputs": [],
   "source": [
    "# Get the file names of the reformatted bottom part\n",
    "Data['BottomFiles'] = [sorted(glob.glob(os.path.join(f,\n",
    "                                                     'base_reslice',\n",
    "                                                     '*.png'))) for f in Data['Folder']]"
   ]
  },
  {
   "cell_type": "code",
   "execution_count": 42,
   "metadata": {},
   "outputs": [],
   "source": [
    "Data['SizeBase'] = [[os.path.getsize(rec) for rec in recs] for recs in Data['BottomFiles']]\n",
    "Data['SizeBaseSum'] = [sum(sizes) for sizes in Data['SizeBase']]"
   ]
  },
  {
   "cell_type": "code",
   "execution_count": 43,
   "metadata": {},
   "outputs": [
    {
     "data": {
      "text/plain": [
       "0     100539658\n",
       "16     79626508\n",
       "27    132858342\n",
       "38     84835069\n",
       "49     69946256\n",
       "        ...    \n",
       "2     273638687\n",
       "3      82951126\n",
       "4     348122415\n",
       "5     288166988\n",
       "6     111953882\n",
       "Name: SizeBaseSum, Length: 104, dtype: int64"
      ]
     },
     "execution_count": 43,
     "metadata": {},
     "output_type": "execute_result"
    }
   ],
   "source": [
    "Data['SizeBaseSum']"
   ]
  },
  {
   "cell_type": "markdown",
   "metadata": {},
   "source": [
    "To get (nearly) the same size, use\n",
    "````bash\n",
    "du -csb [123]/Tooth*_pulpa.zarr/*\n",
    "````\n",
    "in a Linux console"
   ]
  },
  {
   "cell_type": "code",
   "execution_count": 44,
   "metadata": {},
   "outputs": [
    {
     "name": "stdout",
     "output_type": "stream",
     "text": [
      "On average, the extracted pulpa of each of the 104 assessed samples are 126.75 MB in size\n"
     ]
    }
   ],
   "source": [
    "print('On average, the extracted pulpa of each of the %s assessed samples '\n",
    "      'are %0.2f MB in size' % (len(Data),\n",
    "                                Data['SizeBaseSum'].mean() * 1e-6))"
   ]
  },
  {
   "cell_type": "code",
   "execution_count": 46,
   "metadata": {},
   "outputs": [
    {
     "name": "stdout",
     "output_type": "stream",
     "text": [
      "In total, the extracted pulpa are 13.18 GB in size\n"
     ]
    }
   ],
   "source": [
    "print('In total, the extracted pulpa are %0.2f GB in size' % (Data['SizeBaseSum'].sum() * 1e-9))"
   ]
  },
  {
   "cell_type": "code",
   "execution_count": null,
   "metadata": {},
   "outputs": [],
   "source": []
  },
  {
   "cell_type": "code",
   "execution_count": null,
   "metadata": {},
   "outputs": [],
   "source": []
  }
 ],
 "metadata": {
  "anaconda-cloud": {},
  "kernelspec": {
   "display_name": "Python 3",
   "language": "python",
   "name": "python3"
  },
  "language_info": {
   "codemirror_mode": {
    "name": "ipython",
    "version": 3
   },
   "file_extension": ".py",
   "mimetype": "text/x-python",
   "name": "python",
   "nbconvert_exporter": "python",
   "pygments_lexer": "ipython3",
   "version": "3.7.3"
  }
 },
 "nbformat": 4,
 "nbformat_minor": 2
}
