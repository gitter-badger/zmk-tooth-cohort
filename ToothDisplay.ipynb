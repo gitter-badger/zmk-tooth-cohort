{
 "cells": [
  {
   "cell_type": "markdown",
   "metadata": {},
   "source": [
    "We scanned *a lot* of teeth for the ZMK guys and gals.\n",
    "Let's programmatically generate overview images of them."
   ]
  },
  {
   "cell_type": "code",
   "execution_count": 1,
   "metadata": {},
   "outputs": [],
   "source": [
    "import platform\n",
    "import os\n",
    "import glob\n",
    "import pandas\n",
    "# import imageio\n",
    "import numpy\n",
    "import matplotlib.pyplot as plt\n",
    "from matplotlib_scalebar.scalebar import ScaleBar\n",
    "# import seaborn\n",
    "import dask\n",
    "import dask_image.imread\n",
    "from dask.distributed import Client\n",
    "client = Client()\n",
    "# Then go to http://localhost:8787/status\n",
    "# from numcodecs import Blosc\n",
    "from tqdm import notebook\n",
    "# import skimage.filters\n",
    "# import skimage.morphology\n",
    "# import skimage.segmentation\n",
    "# import scipy.ndimage"
   ]
  },
  {
   "cell_type": "code",
   "execution_count": 2,
   "metadata": {},
   "outputs": [
    {
     "name": "stdout",
     "output_type": "stream",
     "text": [
      "You can seee what DASK is doing at \"http://localhost:8787/status\"\n"
     ]
    }
   ],
   "source": [
    "print('You can seee what DASK is doing at \"http://localhost:%s/status\"' % client.scheduler_info()['services']['dashboard'])"
   ]
  },
  {
   "cell_type": "code",
   "execution_count": 3,
   "metadata": {},
   "outputs": [],
   "source": [
    "# Set up figure defaults\n",
    "plt.rc('image', cmap='gray', interpolation='nearest')  # Display all images in b&w and with 'nearest' interpolation\n",
    "plt.rcParams['figure.figsize'] = (16, 9)  # Size up figures a bit"
   ]
  },
  {
   "cell_type": "code",
   "execution_count": 4,
   "metadata": {},
   "outputs": [],
   "source": [
    "# Setup scale bar defaults\n",
    "plt.rcParams['scalebar.location'] = 'lower right'\n",
    "plt.rcParams['scalebar.frameon'] = False\n",
    "plt.rcParams['scalebar.color'] = 'white'"
   ]
  },
  {
   "cell_type": "code",
   "execution_count": 5,
   "metadata": {},
   "outputs": [
    {
     "name": "stdout",
     "output_type": "stream",
     "text": [
      "We are loading all the data from S:\\ZMK\n"
     ]
    }
   ],
   "source": [
    "# Different locations if running either on Linux or Windows\n",
    "FastSSD = False\n",
    "# to speed things up significantly\n",
    "if 'Linux' in platform.system():\n",
    "    if FastSSD:\n",
    "        BasePath = os.path.join(os.sep, 'media', 'habi', 'Fast_SSD')\n",
    "    else:\n",
    "        BasePath = os.path.join(os.sep, 'home', 'habi', '1272')\n",
    "else:\n",
    "    if FastSSD:\n",
    "        BasePath = os.path.join('F:\\\\')\n",
    "    else:\n",
    "        if 'anaklin' in platform.node():\n",
    "            BasePath = os.path.join('S:\\\\')\n",
    "        else:\n",
    "            BasePath = os.path.join('D:\\\\Results')\n",
    "Root = os.path.join(BasePath, 'ZMK')\n",
    "print('We are loading all the data from %s' % Root)"
   ]
  },
  {
   "cell_type": "code",
   "execution_count": 6,
   "metadata": {},
   "outputs": [
    {
     "data": {
      "text/plain": [
       "<dask.config.set at 0xde09fd0>"
      ]
     },
     "execution_count": 6,
     "metadata": {},
     "output_type": "execute_result"
    }
   ],
   "source": [
    "if 'Linux' in platform.system():\n",
    "    tmp = os.path.join(os.sep, 'media', 'habi', 'Fast_SSD')\n",
    "else:\n",
    "    if 'anaklin' in platform.node():\n",
    "        tmp = os.path.join('F:\\\\')\n",
    "    else:\n",
    "        tmp = os.path.join('D:\\\\')\n",
    "dask.config.set({'temporary_directory': os.path.join(tmp, 'tmp')})"
   ]
  },
  {
   "cell_type": "code",
   "execution_count": 7,
   "metadata": {},
   "outputs": [],
   "source": [
    "# Make us a dataframe for saving all that we need\n",
    "Data = pandas.DataFrame()"
   ]
  },
  {
   "cell_type": "code",
   "execution_count": 8,
   "metadata": {},
   "outputs": [],
   "source": [
    "# Look only for folders: https://stackoverflow.com/a/38216530\n",
    "Data['Folder'] = glob.glob(os.path.join(Root, 'ToothBattallion', '*' + os.path.sep))"
   ]
  },
  {
   "cell_type": "code",
   "execution_count": 9,
   "metadata": {},
   "outputs": [
    {
     "name": "stdout",
     "output_type": "stream",
     "text": [
      "We found 104 tooth folders in S:\\ZMK\n"
     ]
    }
   ],
   "source": [
    "print('We found %s tooth folders in %s' % (len(Data), Root))"
   ]
  },
  {
   "cell_type": "code",
   "execution_count": 10,
   "metadata": {},
   "outputs": [],
   "source": [
    "# Look for the relevant logfiles\n",
    "Data['LogFile'] = [sorted(glob.glob(os.path.join(f, '*.log')))[0] for f in Data['Folder']]"
   ]
  },
  {
   "cell_type": "code",
   "execution_count": 11,
   "metadata": {},
   "outputs": [],
   "source": [
    "Data['Sample'] = [os.path.splitext(os.path.basename(l))[0] for l in Data['LogFile']]"
   ]
  },
  {
   "cell_type": "code",
   "execution_count": 12,
   "metadata": {},
   "outputs": [],
   "source": [
    "# Proper sorting *with* leading zeros :)\n",
    "Data.sort_values(by=['Sample'], inplace=True)"
   ]
  },
  {
   "cell_type": "code",
   "execution_count": 13,
   "metadata": {},
   "outputs": [],
   "source": [
    "# Reconstruction filenames\n",
    "Data['OutputNameRec'] = [os.path.join(f, sample + '_rec.zarr') for f, sample in zip(Data.Folder, Data.Sample)]"
   ]
  },
  {
   "cell_type": "code",
   "execution_count": 14,
   "metadata": {},
   "outputs": [],
   "source": [
    "# Load the reconstructions a zarr arrays\n",
    "Reconstructions = [dask.array.from_zarr(file) for file in Data['OutputNameRec']]"
   ]
  },
  {
   "cell_type": "code",
   "execution_count": 15,
   "metadata": {},
   "outputs": [],
   "source": [
    "# How big are the datasets?\n",
    "Data['Size'] = [rec.shape for rec in Reconstructions]"
   ]
  },
  {
   "cell_type": "code",
   "execution_count": 16,
   "metadata": {},
   "outputs": [],
   "source": [
    "# The three cardinal directions\n",
    "directions = ['Axial',\n",
    "              'Coronal',\n",
    "              'Sagittal']"
   ]
  },
  {
   "cell_type": "code",
   "execution_count": 17,
   "metadata": {},
   "outputs": [],
   "source": [
    "# Cropped filenames\n",
    "Data['OutputNameRecCrop'] = [os.path.join(f, sample + '_rec_crop.zarr') for f, sample in zip(Data.Folder, Data.Sample)]"
   ]
  },
  {
   "cell_type": "code",
   "execution_count": 18,
   "metadata": {},
   "outputs": [],
   "source": [
    "# Load the cropped zarr arrays \n",
    "CroppedReconstructions = [dask.array.from_zarr(file) for file in Data['OutputNameRecCrop']]"
   ]
  },
  {
   "cell_type": "code",
   "execution_count": 19,
   "metadata": {},
   "outputs": [],
   "source": [
    "# Update the size\n",
    "Data['Size'] = [rec.shape for rec in CroppedReconstructions]"
   ]
  },
  {
   "cell_type": "code",
   "execution_count": 20,
   "metadata": {},
   "outputs": [],
   "source": [
    "# Pulpa file names\n",
    "Data['OutputNamePulpa'] = [os.path.join(f, sample + '_pulpa.zarr') for f, sample in zip(Data.Folder, Data.Sample)]"
   ]
  },
  {
   "cell_type": "code",
   "execution_count": 21,
   "metadata": {},
   "outputs": [],
   "source": [
    "# Load the cropped zarr arrays back in as *reconstructions*\n",
    "Pulpas = [dask.array.from_zarr(file) for file in Data['OutputNamePulpa']]"
   ]
  },
  {
   "cell_type": "code",
   "execution_count": 22,
   "metadata": {},
   "outputs": [],
   "source": [
    "# 3D-Display"
   ]
  },
  {
   "cell_type": "code",
   "execution_count": 23,
   "metadata": {},
   "outputs": [],
   "source": [
    "import itkwidgets\n",
    "from itkwidgets import view  # 3d viewer"
   ]
  },
  {
   "cell_type": "code",
   "execution_count": 24,
   "metadata": {},
   "outputs": [
    {
     "data": {
      "text/plain": [
       "'Tooth045'"
      ]
     },
     "execution_count": 24,
     "metadata": {},
     "output_type": "execute_result"
    }
   ],
   "source": [
    "whichone=44\n",
    "Data.Sample[whichone]"
   ]
  },
  {
   "cell_type": "code",
   "execution_count": 25,
   "metadata": {},
   "outputs": [],
   "source": [
    "TeethPulpa = numpy.maximum(Pulpas[whichone][1:] * 255, CroppedReconstructions[whichone][1:]).astype('uint8')"
   ]
  },
  {
   "cell_type": "code",
   "execution_count": 26,
   "metadata": {},
   "outputs": [
    {
     "data": {
      "application/vnd.jupyter.widget-view+json": {
       "model_id": "7ad61700a4944eaf9eff04a967cdd35c",
       "version_major": 2,
       "version_minor": 0
      },
      "text/plain": [
       "Viewer(annotations=False, geometries=[], gradient_opacity=0.618, point_sets=[], rendered_image=<itk.itkImagePy…"
      ]
     },
     "metadata": {},
     "output_type": "display_data"
    }
   ],
   "source": [
    "view(TeethPulpa,\n",
    "     annotations=False,\n",
    "     ui_collapsed=True,\n",
    "     rotate=False,\n",
    "     gradient_opacity=0.618)"
   ]
  },
  {
   "cell_type": "code",
   "execution_count": 27,
   "metadata": {},
   "outputs": [],
   "source": [
    "# viewer = view(Reconstructions[whichone][::25,::25,::25],\n",
    "#               annotations=False,\n",
    "#               ui_collapsed=True,\n",
    "#               rotate=False,\n",
    "#               gradient_opacity=0.618)\n",
    "# # Rotate camera, based on https://git.io/JfjwT and *highly* empirical fiddling\n",
    "# viewer.camera = numpy.array([[-700, 0,  90],\n",
    "#                              [ 90,  0,  90],\n",
    "#                              [ 0,  1,  0]], dtype=numpy.float32)\n",
    "# viewer"
   ]
  },
  {
   "cell_type": "code",
   "execution_count": 28,
   "metadata": {},
   "outputs": [],
   "source": [
    "# viewer.camera"
   ]
  },
  {
   "cell_type": "code",
   "execution_count": 29,
   "metadata": {},
   "outputs": [],
   "source": [
    "# import ipywebrtc as webrtc\n",
    "# import time"
   ]
  },
  {
   "cell_type": "code",
   "execution_count": 30,
   "metadata": {},
   "outputs": [],
   "source": [
    "# viewer = view(TeethPulpa[::15,::15,::15].astype('uint8'),\n",
    "#               annotations=False,\n",
    "#               ui_collapsed=True,\n",
    "#               rotate=False,\n",
    "#               gradient_opacity=0.618)\n",
    "# # Rotate camera, based on https://git.io/JfjwT\n",
    "# viewer.camera = numpy.array([viewer.camera[0],\n",
    "#                              viewer.camera[1],\n",
    "#                              [-8.8914531e-01,  4.5637247e-01, -3.3833973e-02]], dtype=numpy.float32)\n",
    "# viewer"
   ]
  },
  {
   "cell_type": "code",
   "execution_count": 31,
   "metadata": {},
   "outputs": [],
   "source": [
    "# # https://github.com/InsightSoftwareConsortium/itkwidgets/issues/344#issuecomment-652735527\n",
    "# from IPython.display import display"
   ]
  },
  {
   "cell_type": "code",
   "execution_count": 32,
   "metadata": {
    "scrolled": false
   },
   "outputs": [],
   "source": [
    "# for c, smpl in Data.iterrows():\n",
    "#     print(smpl.Sample)\n",
    "#     viewer = view(CroppedReconstructions[c][::25,::25,::25],\n",
    "#                   annotations=False,\n",
    "#                   ui_collapsed=True,\n",
    "#                   rotate=False,\n",
    "#                   gradient_opacity=0.618)\n",
    "#     viewer.camera = numpy.array([[-700, 0,  90],\n",
    "#                                  [ 90,  0,  90],\n",
    "#                                  [ 0,  1,  0]], dtype=numpy.float32)    \n",
    "#     display(viewer)\n",
    "#     time.sleep(1)    \n",
    "#     recorder = webrtc.ImageRecorder(stream=viewer,\n",
    "#                                     filename=os.path.join(Data['Folder'][whichone],\n",
    "#                                                           Data['Sample'][whichone] + '.3D.Reconstruction.png'),\n",
    "#                                     autosave=True)\n",
    "#     recorder\n",
    "#     recorder.recording = True\n",
    "#     time.sleep(1)\n",
    "#     recorder.recording = False    "
   ]
  },
  {
   "cell_type": "code",
   "execution_count": 33,
   "metadata": {},
   "outputs": [],
   "source": [
    "# display(viewer)"
   ]
  },
  {
   "cell_type": "code",
   "execution_count": 34,
   "metadata": {
    "scrolled": false
   },
   "outputs": [],
   "source": [
    "# for whichone, row in Data.iterrows():\n",
    "#     print(row.Sample)\n",
    "#     viewer.image = CroppedReconstructions[whichone][::25,::25,::25].compute()\n",
    "#     recorder = webrtc.ImageRecorder(stream=viewer,\n",
    "#                                     filename=os.path.join(Data['Folder'][whichone],\n",
    "#                                                           Data['Sample'][whichone] + '.3D.Reconstruction.png'),\n",
    "#                                     autosave=True)\n",
    "#     recorder\n",
    "#     recorder.recording = True\n",
    "#     recorder.recording = False"
   ]
  },
  {
   "cell_type": "code",
   "execution_count": 35,
   "metadata": {
    "scrolled": false
   },
   "outputs": [],
   "source": [
    "# for c,smpl in Data.iterrows():\n",
    "#     print(smpl.Sample)\n",
    "#     viewer = view(CroppedReconstructions[c][::15,::15,::15],\n",
    "#                   annotations=False,\n",
    "#                   ui_collapsed=True,\n",
    "#                   rotate=False,\n",
    "#                   gradient_opacity=0.618)\n",
    "#     display(viewer)\n",
    "#     recorder = webrtc.ImageRecorder(stream=viewer,\n",
    "#                                     filename=os.path.join(Data['Folder'][c],\n",
    "#                                                           Data['Sample'][c] + '3D.Tooth.png'),\n",
    "#                                     autosave=True)\n",
    "#     recorder\n",
    "#     recorder.recording = True\n",
    "#     time.sleep(0.5)\n",
    "#     recorder.recording = False"
   ]
  },
  {
   "cell_type": "code",
   "execution_count": 36,
   "metadata": {},
   "outputs": [],
   "source": [
    "# # From Kevin: https://twitter.com/maartenbreddels/status/1042005230437756928\n",
    "# import ipyvolume as ipv\n",
    "# import numpy as np\n",
    "# from matplotlib.pyplot import cm"
   ]
  },
  {
   "cell_type": "code",
   "execution_count": 37,
   "metadata": {},
   "outputs": [],
   "source": [
    "# # download the dataset\n",
    "# !wget -q https://www.dropbox.com/s/eqht79b7j4jqit2/petct.npz?dl=1 -O petct.npz"
   ]
  },
  {
   "cell_type": "code",
   "execution_count": 38,
   "metadata": {},
   "outputs": [],
   "source": [
    "# full_scan = {k: v.swapaxes(0, 1)[::-1] for k,v in np.load('petct.npz').items()}\n",
    "# print(list(full_scan.keys()))"
   ]
  },
  {
   "cell_type": "code",
   "execution_count": 39,
   "metadata": {},
   "outputs": [],
   "source": [
    "# table_ct = cm.gray_r(np.linspace(0, 1, 255))\n",
    "# table_ct[:50, 3] = 0 # make the lower values transparent\n",
    "# table_ct[50:, 3] = np.linspace(0, 0.05, table_ct[50:].shape[0])\n",
    "# tf_ct = ipv.TransferFunction(rgba=table_ct)"
   ]
  },
  {
   "cell_type": "code",
   "execution_count": 40,
   "metadata": {},
   "outputs": [],
   "source": [
    "# ct_vol = ipv.quickvolshow(full_scan['ct_data'], \n",
    "#                           tf=tf_ct, lighting=False, \n",
    "#                           data_min=-1000, data_max=1000)\n",
    "# ct_vol"
   ]
  },
  {
   "cell_type": "code",
   "execution_count": 41,
   "metadata": {},
   "outputs": [],
   "source": [
    "# import ipywidgets"
   ]
  },
  {
   "cell_type": "code",
   "execution_count": 42,
   "metadata": {},
   "outputs": [],
   "source": [
    "# import ipyvolume.pylab as p3\n",
    "# import ipyvolume as ipv\n",
    "# import IPython.display\n",
    "# import ipyvolume\n",
    "# import numpy as np\n",
    "# import os"
   ]
  },
  {
   "cell_type": "code",
   "execution_count": 43,
   "metadata": {},
   "outputs": [],
   "source": [
    "# ball = ipyvolume.examples.ball(shape=32, draw=False)"
   ]
  },
  {
   "cell_type": "code",
   "execution_count": 44,
   "metadata": {},
   "outputs": [],
   "source": [
    "# fig = p3.figure(screen_capture_enabled=True)\n",
    "# vol = p3.volshow(test)\n",
    "# p3.show()"
   ]
  },
  {
   "cell_type": "code",
   "execution_count": 45,
   "metadata": {},
   "outputs": [],
   "source": [
    "# import k3d"
   ]
  },
  {
   "cell_type": "code",
   "execution_count": 46,
   "metadata": {},
   "outputs": [],
   "source": [
    "# tooth = k3d.volume(\n",
    "#     Reconstructions[1],\n",
    "# #     alpha_coef=1000,\n",
    "# #     shadow='dynamic',\n",
    "# #     samples=600,\n",
    "# #     shadow_res=128,\n",
    "# #     shadow_delay=50,\n",
    "#     color_range=[50,2**8],\n",
    "# #     color_map=(np.array(k3d.colormaps.matplotlib_color_maps.Gist_heat).reshape(-1,4)\n",
    "# #                * np.array([1,1.75,1.75,1.75])).astype(np.float32),\n",
    "# #     compression_level=9\n",
    "# )\n",
    "# plot = k3d.plot()\n",
    "# plot += tooth\n",
    "# plot.display()"
   ]
  },
  {
   "cell_type": "code",
   "execution_count": 47,
   "metadata": {},
   "outputs": [],
   "source": [
    "# with open('tooth001.html','w') as fp:\n",
    "#     fp.write(plot.snapshot)"
   ]
  },
  {
   "cell_type": "code",
   "execution_count": null,
   "metadata": {},
   "outputs": [],
   "source": []
  }
 ],
 "metadata": {
  "kernelspec": {
   "display_name": "Python 3",
   "language": "python",
   "name": "python3"
  },
  "language_info": {
   "codemirror_mode": {
    "name": "ipython",
    "version": 3
   },
   "file_extension": ".py",
   "mimetype": "text/x-python",
   "name": "python",
   "nbconvert_exporter": "python",
   "pygments_lexer": "ipython3",
   "version": "3.6.10"
  }
 },
 "nbformat": 4,
 "nbformat_minor": 4
}
